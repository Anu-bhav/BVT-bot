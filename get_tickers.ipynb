{
 "metadata": {
  "language_info": {
   "codemirror_mode": {
    "name": "ipython",
    "version": 3
   },
   "file_extension": ".py",
   "mimetype": "text/x-python",
   "name": "python",
   "nbconvert_exporter": "python",
   "pygments_lexer": "ipython3",
   "version": "3.9.4"
  },
  "orig_nbformat": 2,
  "kernelspec": {
   "name": "pythonjvsc74a57bd08ceafb786edc9b784857e07ca41725f299061d866c0dff31aaf0158bed04091a",
   "display_name": "Python 3.9.4  ('.venv': pipenv)"
  },
  "metadata": {
   "interpreter": {
    "hash": "8ceafb786edc9b784857e07ca41725f299061d866c0dff31aaf0158bed04091a"
   }
  }
 },
 "nbformat": 4,
 "nbformat_minor": 2,
 "cells": [
  {
   "source": [
    "import sys\n",
    "sys.argv = ['']\n",
    "# sys.path.append(\"..\")\n",
    "# load get config module\n",
    "from helpers.get_config import config\n",
    "from helpers.api_auth import auth\n",
    "from tradingview_ta import Interval, get_multiple_analysis\n",
    "data, key = config()\n",
    "\n",
    "client = auth(data, key)\n",
    "\n",
    "EXCHANGE = data[\"EXCHANGE\"]\n",
    "SCREENER = data[\"SCREENER\"]\n",
    "FIATS = data[\"FIATS\"]\n",
    "PAIR_WITH = data[\"PAIR_WITH\"]\n",
    "FIRST_INTERVAL = Interval.INTERVAL_1_MINUTE\n"
   ],
   "cell_type": "code",
   "metadata": {},
   "execution_count": 1,
   "outputs": [
    {
     "output_type": "stream",
     "name": "stdout",
     "text": [
      "MONGO: the bvt does not exist, creating now...\n",
      "MONGO: DBs and Collections are not created until data is stored in them...\n",
      "MONGO: the portfolio table does exist in bvt database, creating now...\n",
      "MONGO: the trades table does exist in bvt database, creating now...\n",
      "MONGO: the bvt-test does not exist, creating now...\n",
      "MONGO: DBs and Collections are not created until data is stored in them...\n",
      "MONGO: the portfolio table does exist in bvt-test database, creating now...\n",
      "MONGO: the trades table does exist in bvt-test database, creating now...\n",
      "Connected to MAINNET\n"
     ]
    }
   ]
  },
  {
   "source": [
    "\"\"\"Get all tickers that can be paired with current base currency\"\"\"\n",
    "prices = client.get_all_tickers()\n",
    "tickers = []\n",
    "pair_tickers = []\n",
    "analysis_tickers = []\n",
    "new_analysis = []\n",
    "\n",
    "# clears tickers.txt\n",
    "with open(\"tickers.txt\", \"r+\") as handle:\n",
    "    handle.truncate(0)\n",
    "\n",
    "for coin in prices:\n",
    "    if coin[\"symbol\"].endswith(PAIR_WITH) and all(item not in coin[\"symbol\"] for item in FIATS):\n",
    "        value = coin[\"symbol\"]\n",
    "        if value:\n",
    "            pair_tickers.append(value)\n",
    "            value = coin[\"symbol\"].replace(PAIR_WITH, \"\")\n",
    "            analysis_tickers.append(f\"{EXCHANGE}:{coin['symbol']}\")\n",
    "\n"
   ],
   "cell_type": "code",
   "metadata": {},
   "execution_count": 6,
   "outputs": []
  },
  {
   "cell_type": "code",
   "execution_count": 11,
   "metadata": {},
   "outputs": [],
   "source": [
    "all_analysis = get_multiple_analysis(screener=SCREENER, interval=FIRST_INTERVAL, symbols=analysis_tickers)"
   ]
  },
  {
   "cell_type": "code",
   "execution_count": 31,
   "metadata": {
    "tags": [
     "outputPrepend"
    ]
   },
   "outputs": [
    {
     "output_type": "stream",
     "name": "stdout",
     "text": [
      "m analysis: CELOUSDT\nfrom analysis recommendation: BUY\nticker value: CELOUSDT\n\nfrom analysis: COSUSDT\nfrom analysis recommendation: BUY\nticker value: COSUSDT\n\nfrom analysis: XEMUSDT\nfrom analysis recommendation: STRONG_BUY\nticker value: XEMUSDT\n\nfrom analysis: SXPUSDT\nfrom analysis recommendation: BUY\nticker value: SXPUSDT\n\nfrom analysis: SCUSDT\nfrom analysis recommendation: STRONG_BUY\nticker value: SCUSDT\n\nfrom analysis: COMPUSDT\nfrom analysis recommendation: STRONG_BUY\nticker value: COMPUSDT\n\n"
     ]
    }
   ],
   "source": [
    "tickers = []\n",
    "for analysis in all_analysis:\n",
    "    print(\"from analysis:\", all_analysis[analysis].symbol)\n",
    "    if \"BUY\" in all_analysis[analysis].summary['RECOMMENDATION']:\n",
    "        index = analysis_tickers.index(analysis)\n",
    "        ticker = pair_tickers[index].replace(PAIR_WITH, \"\")\n",
    "        tickers.append(ticker)\n",
    "        print()"
   ]
  },
  {
   "cell_type": "code",
   "execution_count": 33,
   "metadata": {},
   "outputs": [],
   "source": [
    "with open(\"tickers.txt\", \"a+\") as handle:\n",
    "    for ticker in tickers:\n",
    "        handle.write(ticker + \"\\n\")"
   ]
  },
  {
   "cell_type": "code",
   "execution_count": null,
   "metadata": {},
   "outputs": [],
   "source": []
  }
 ]
}